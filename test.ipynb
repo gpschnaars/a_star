{
 "cells": [
  {
   "cell_type": "code",
   "execution_count": 2,
   "metadata": {
    "tags": []
   },
   "outputs": [
    {
     "output_type": "stream",
     "name": "stdout",
     "text": "pygame 1.9.6\nHello from the pygame community. https://www.pygame.org/contribute.html\n"
    }
   ],
   "source": [
    "import pygame\n",
    "\n",
    "from tkinter import *\n",
    "from tkinter import ttk\n",
    "from tkinter import messagebox"
   ]
  },
  {
   "cell_type": "code",
   "execution_count": 3,
   "metadata": {},
   "outputs": [],
   "source": [
    "def onsubmit():\n",
    "    global start\n",
    "    global end\n",
    "    st = startBox.get().split(',')\n",
    "    ed = endBox.get().split(',')\n",
    "    start = grid[int(st[0])][int(st[1])]\n",
    "    end = grid[int(ed[0])][int(ed[1])]\n",
    "    window.quit()\n",
    "    window.destroy()"
   ]
  },
  {
   "cell_type": "code",
   "execution_count": 5,
   "metadata": {},
   "outputs": [],
   "source": [
    "screen = pygame.display.set_mode((800, 800))"
   ]
  },
  {
   "cell_type": "code",
   "execution_count": 6,
   "metadata": {
    "tags": []
   },
   "outputs": [
    {
     "output_type": "execute_result",
     "data": {
      "text/plain": "(6, 0)"
     },
     "metadata": {},
     "execution_count": 6
    }
   ],
   "source": [
    "window = Tk()\n",
    "label = Label(window, text='Start(x,y): ')\n",
    "startBox = Entry(window)\n",
    "label1 = Label(window, text='End(x,y): ')\n",
    "endBox = Entry(window)\n",
    "var = IntVar()\n",
    "showPath = ttk.Checkbutton(window, text='Show Steps :', onvalue=1, offvalue=0, variable=var)\n",
    "\n",
    "submit = Button(window, text='Submit', command=onsubmit)\n",
    "\n",
    "showPath.grid(columnspan=2, row=2)\n",
    "submit.grid(columnspan=2, row=3)\n",
    "label1.grid(row=1, pady=3)\n",
    "endBox.grid(row=1, column=1, pady=3)\n",
    "startBox.grid(row=0, column=1, pady=3)\n",
    "label.grid(row=0, pady=3)\n",
    "\n",
    "window.update()\n",
    "mainloop()\n",
    "\n",
    "pygame.init()"
   ]
  },
  {
   "cell_type": "code",
   "execution_count": null,
   "metadata": {},
   "outputs": [],
   "source": []
  }
 ],
 "metadata": {
  "language_info": {
   "codemirror_mode": {
    "name": "ipython",
    "version": 3
   },
   "file_extension": ".py",
   "mimetype": "text/x-python",
   "name": "python",
   "nbconvert_exporter": "python",
   "pygments_lexer": "ipython3",
   "version": "3.7.4-final"
  },
  "orig_nbformat": 2,
  "kernelspec": {
   "name": "python37464bitmyenvvenv9725b35d1f7f434d9e28e0c9853360a0",
   "display_name": "Python 3.7.4 64-bit ('myenv': venv)"
  }
 },
 "nbformat": 4,
 "nbformat_minor": 2
}